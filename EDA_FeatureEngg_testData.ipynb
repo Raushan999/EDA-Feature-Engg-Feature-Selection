{
 "cells": [
  {
   "cell_type": "markdown",
   "id": "c1e4641c",
   "metadata": {},
   "source": [
    "# Test Data- EDA- 1 &2, Feature Engineering"
   ]
  },
  {
   "cell_type": "markdown",
   "id": "9788fec7",
   "metadata": {},
   "source": [
    "# house price prediction: Advance Regression Techniques"
   ]
  },
  {
   "cell_type": "markdown",
   "id": "b7647c28",
   "metadata": {},
   "source": [
    "All the life cycles in a Data Science Projects\n",
    "1. Data Analysis\n",
    "2. Feature Engineering\n",
    "3. Feature Selection\n",
    "4. Model Building\n",
    "5. Model Deployment"
   ]
  },
  {
   "cell_type": "code",
   "execution_count": 1,
   "id": "2f1064aa",
   "metadata": {},
   "outputs": [],
   "source": [
    "#importing all the libraries\n",
    "import numpy as np\n",
    "import pandas as pd\n",
    "import matplotlib.pyplot as plt\n",
    "%matplotlib inline\n",
    "\n",
    "# for viewing all the columns of the dataset\n",
    "pd.pandas.set_option('display.max_column', None)"
   ]
  },
  {
   "cell_type": "code",
   "execution_count": 2,
   "id": "2e04bfeb",
   "metadata": {},
   "outputs": [],
   "source": [
    "# Loading the test dataset\n",
    "test_data = pd.read_csv('test.csv')"
   ]
  },
  {
   "cell_type": "code",
   "execution_count": 3,
   "id": "679e80e6",
   "metadata": {},
   "outputs": [
    {
     "data": {
      "text/plain": [
       "(1459, 80)"
      ]
     },
     "execution_count": 3,
     "metadata": {},
     "output_type": "execute_result"
    }
   ],
   "source": [
    "test_data.shape"
   ]
  },
  {
   "cell_type": "markdown",
   "id": "9573c907",
   "metadata": {},
   "source": [
    "# What we will do in the further steps.\n",
    "1. Missing Values -> all parameters -> % missing \n",
    "2. All the numerical Variables -> analyze their distribution-> Temporal variables(Years)-> their plots\n",
    "   -> Year Modification(if needed) -> modified plot -> continuous and discrete separation -> discrete count->\n",
    "    plots -> continuous var -> count ->plot-> modification(if)\n",
    "3. Categorical Variables -> \n",
    "4. Outliers -> plot to visualize the outliers"
   ]
  },
  {
   "cell_type": "code",
   "execution_count": 4,
   "id": "30ae1bdb",
   "metadata": {},
   "outputs": [],
   "source": [
    "# Missing values\n",
    "feature_nan =[]\n",
    "for feature in test_data.columns:\n",
    "    if test_data[feature].isnull().sum()>1:\n",
    "        feature_nan.append(feature)"
   ]
  },
  {
   "cell_type": "code",
   "execution_count": 5,
   "id": "c9b14221",
   "metadata": {},
   "outputs": [
    {
     "data": {
      "text/plain": [
       "23"
      ]
     },
     "execution_count": 5,
     "metadata": {},
     "output_type": "execute_result"
    }
   ],
   "source": [
    "len(feature_nan) # 23 columns have missing values( nan )"
   ]
  },
  {
   "cell_type": "code",
   "execution_count": 6,
   "id": "83b17d4a",
   "metadata": {},
   "outputs": [
    {
     "name": "stdout",
     "output_type": "stream",
     "text": [
      "MSZoning  :  0.0027 %\n",
      "LotFrontage  :  0.1556 %\n",
      "Alley  :  0.9267 %\n",
      "Utilities  :  0.0014 %\n",
      "MasVnrType  :  0.011 %\n",
      "MasVnrArea  :  0.0103 %\n",
      "BsmtQual  :  0.0302 %\n",
      "BsmtCond  :  0.0308 %\n",
      "BsmtExposure  :  0.0302 %\n",
      "BsmtFinType1  :  0.0288 %\n",
      "BsmtFinType2  :  0.0288 %\n",
      "BsmtFullBath  :  0.0014 %\n",
      "BsmtHalfBath  :  0.0014 %\n",
      "Functional  :  0.0014 %\n",
      "FireplaceQu  :  0.5003 %\n",
      "GarageType  :  0.0521 %\n",
      "GarageYrBlt  :  0.0535 %\n",
      "GarageFinish  :  0.0535 %\n",
      "GarageQual  :  0.0535 %\n",
      "GarageCond  :  0.0535 %\n",
      "PoolQC  :  0.9979 %\n",
      "Fence  :  0.8012 %\n",
      "MiscFeature  :  0.965 %\n"
     ]
    }
   ],
   "source": [
    "for feature in feature_nan:\n",
    "    print(feature, ' : ', np.round(test_data[feature].isnull().mean(), 4), '%')\n"
   ]
  },
  {
   "cell_type": "code",
   "execution_count": 7,
   "id": "8654f9bb",
   "metadata": {},
   "outputs": [],
   "source": [
    "# understanding the importance of the missing values ( replacing missing with  1 and rest with 0 \n",
    "for feature in feature_nan:\n",
    "    data = test_data.copy()\n",
    "    data[feature] = np.where(data[feature].isnull(), 1, 0)\n",
    "#Since we are working on the test data; so we don't have the sale price(dependent var) hence we are skipping the feature plot vs Sale Price"
   ]
  },
  {
   "cell_type": "code",
   "execution_count": 8,
   "id": "92ed1392",
   "metadata": {},
   "outputs": [
    {
     "data": {
      "text/plain": [
       "1459"
      ]
     },
     "execution_count": 8,
     "metadata": {},
     "output_type": "execute_result"
    }
   ],
   "source": [
    "len(test_data['Id']) # id can be got rid of as it is a sequential data (nothing to do with the dataset)"
   ]
  },
  {
   "cell_type": "code",
   "execution_count": 9,
   "id": "92f4603e",
   "metadata": {},
   "outputs": [],
   "source": [
    "# finding the numerical variables\n",
    "numerical_feature = []\n",
    "for feature in test_data.columns:\n",
    "    if test_data[feature].dtype != 'O':\n",
    "        numerical_feature.append(feature)"
   ]
  },
  {
   "cell_type": "code",
   "execution_count": 10,
   "id": "93f1cc99",
   "metadata": {},
   "outputs": [
    {
     "data": {
      "text/plain": [
       "37"
      ]
     },
     "execution_count": 10,
     "metadata": {},
     "output_type": "execute_result"
    }
   ],
   "source": [
    "len(numerical_feature)  # length = 37"
   ]
  },
  {
   "cell_type": "code",
   "execution_count": 11,
   "id": "411205e1",
   "metadata": {},
   "outputs": [],
   "source": [
    "# finding how many of them are Year related features (Temporal Variables)"
   ]
  },
  {
   "cell_type": "code",
   "execution_count": 12,
   "id": "7228e04a",
   "metadata": {},
   "outputs": [],
   "source": [
    "year_feature =[]\n",
    "for feature in numerical_feature:\n",
    "    if 'Yr' in feature or 'Year' in feature:\n",
    "        year_feature.append(feature)"
   ]
  },
  {
   "cell_type": "code",
   "execution_count": 13,
   "id": "5e47a949",
   "metadata": {},
   "outputs": [
    {
     "data": {
      "text/plain": [
       "['YearBuilt', 'YearRemodAdd', 'GarageYrBlt', 'YrSold']"
      ]
     },
     "execution_count": 13,
     "metadata": {},
     "output_type": "execute_result"
    }
   ],
   "source": [
    "year_feature"
   ]
  },
  {
   "cell_type": "code",
   "execution_count": 14,
   "id": "f1d7bd23",
   "metadata": {},
   "outputs": [],
   "source": [
    "# separating the continuous and the discrete numerical features\n",
    "# First the discrete features\n",
    "discrete_feature = []\n",
    "for feature in numerical_feature:\n",
    "    if len(test_data[feature].unique()) < 25 and feature not in year_feature:\n",
    "        discrete_feature.append(feature)"
   ]
  },
  {
   "cell_type": "code",
   "execution_count": 15,
   "id": "38f31677",
   "metadata": {},
   "outputs": [
    {
     "data": {
      "text/plain": [
       "16"
      ]
     },
     "execution_count": 15,
     "metadata": {},
     "output_type": "execute_result"
    }
   ],
   "source": [
    "len(discrete_feature) # length = 5"
   ]
  },
  {
   "cell_type": "code",
   "execution_count": 16,
   "id": "178bc4e6",
   "metadata": {},
   "outputs": [
    {
     "name": "stdout",
     "output_type": "stream",
     "text": [
      "count of  MSSubClass  is  16\n",
      "count of  OverallQual  is  10\n",
      "count of  OverallCond  is  9\n",
      "count of  LowQualFinSF  is  15\n",
      "count of  BsmtFullBath  is  5\n",
      "count of  BsmtHalfBath  is  4\n",
      "count of  FullBath  is  5\n",
      "count of  HalfBath  is  3\n",
      "count of  BedroomAbvGr  is  7\n",
      "count of  KitchenAbvGr  is  3\n",
      "count of  TotRmsAbvGrd  is  12\n",
      "count of  Fireplaces  is  5\n",
      "count of  GarageCars  is  7\n",
      "count of  3SsnPorch  is  13\n",
      "count of  PoolArea  is  7\n",
      "count of  MoSold  is  12\n"
     ]
    }
   ],
   "source": [
    "# getting the count of unique values in each of the discrete features in the numerical features\n",
    "for feature in discrete_feature:\n",
    "    print('count of ', feature, ' is ', len(test_data[feature].unique()))"
   ]
  },
  {
   "cell_type": "code",
   "execution_count": 17,
   "id": "dbab2418",
   "metadata": {},
   "outputs": [],
   "source": [
    "# Continuous numerical features\n",
    "continuous_feature =[]\n",
    "for feature in numerical_feature:\n",
    "    if len(test_data[feature].unique()) > 25 and feature not in year_feature  and feature not in ['Id']:\n",
    "        continuous_feature.append(feature)"
   ]
  },
  {
   "cell_type": "code",
   "execution_count": 18,
   "id": "f978520a",
   "metadata": {},
   "outputs": [
    {
     "data": {
      "text/plain": [
       "['LotFrontage',\n",
       " 'LotArea',\n",
       " 'MasVnrArea',\n",
       " 'BsmtFinSF1',\n",
       " 'BsmtFinSF2',\n",
       " 'BsmtUnfSF',\n",
       " 'TotalBsmtSF',\n",
       " '1stFlrSF',\n",
       " '2ndFlrSF',\n",
       " 'GrLivArea',\n",
       " 'GarageArea',\n",
       " 'WoodDeckSF',\n",
       " 'OpenPorchSF',\n",
       " 'EnclosedPorch',\n",
       " 'ScreenPorch',\n",
       " 'MiscVal']"
      ]
     },
     "execution_count": 18,
     "metadata": {},
     "output_type": "execute_result"
    }
   ],
   "source": [
    "continuous_feature"
   ]
  },
  {
   "cell_type": "code",
   "execution_count": 19,
   "id": "1699e730",
   "metadata": {},
   "outputs": [
    {
     "data": {
      "image/png": "[encoded data removed]",
      "text/plain": [
       "<Figure size 432x288 with 1 Axes>"
      ]
     },
     "metadata": {
      "needs_background": "light"
     },
     "output_type": "display_data"
    },
    {
     "data": {
      "image/png": "[encoded data removed]",
      "text/plain": [
       "<Figure size 432x288 with 1 Axes>"
      ]
     },
     "metadata": {
      "needs_background": "light"
     },
     "output_type": "display_data"
    },
    {
     "data": {
      "image/png": "[encoded data removed]",
      "text/plain": [
       "<Figure size 432x288 with 1 Axes>"
      ]
     },
     "metadata": {
      "needs_background": "light"
     },
     "output_type": "display_data"
    },
    {
     "data": {
      "image/png": "[encoded data removed]",
      "text/plain": [
       "<Figure size 432x288 with 1 Axes>"
      ]
     },
     "metadata": {
      "needs_background": "light"
     },
     "output_type": "display_data"
    }
   ],
   "source": [
    "# Outliers:\n",
    "# data points which are too away from the normal data points\n",
    "# most of the data are skewed, we need to check the boxplot after log transformation\n",
    "for feature in continuous_feature:\n",
    "    data = test_data.copy()\n",
    "    if 0 in data[feature].unique():\n",
    "        pass\n",
    "    else:\n",
    "        data[feature] = np.log(data[feature])\n",
    "        data.boxplot(column = feature)\n",
    "        plt.title(feature)\n",
    "        plt.ylabel(feature)\n",
    "        plt.show()"
   ]
  },
  {
   "cell_type": "code",
   "execution_count": 20,
   "id": "f83ebe9f",
   "metadata": {},
   "outputs": [],
   "source": [
    "# Categorical features:\n",
    "categorical_feature =[]\n",
    "for feature in test_data.columns:\n",
    "    if test_data[feature].dtype == 'O':\n",
    "        categorical_feature.append(feature)"
   ]
  },
  {
   "cell_type": "code",
   "execution_count": 21,
   "id": "dfac9a53",
   "metadata": {},
   "outputs": [
    {
     "data": {
      "text/plain": [
       "43"
      ]
     },
     "execution_count": 21,
     "metadata": {},
     "output_type": "execute_result"
    }
   ],
   "source": [
    "len(categorical_feature) # length  = 43"
   ]
  },
  {
   "cell_type": "code",
   "execution_count": 22,
   "id": "d0da222b",
   "metadata": {},
   "outputs": [
    {
     "name": "stdout",
     "output_type": "stream",
     "text": [
      "MSZoning 6\n",
      "Street 2\n",
      "Alley 3\n",
      "LotShape 4\n",
      "LandContour 4\n",
      "Utilities 2\n",
      "LotConfig 5\n",
      "LandSlope 3\n",
      "Neighborhood 25\n",
      "Condition1 9\n",
      "Condition2 5\n",
      "BldgType 5\n",
      "HouseStyle 7\n",
      "RoofStyle 6\n",
      "RoofMatl 4\n",
      "Exterior1st 14\n",
      "Exterior2nd 16\n",
      "MasVnrType 5\n",
      "ExterQual 4\n",
      "ExterCond 5\n",
      "Foundation 6\n",
      "BsmtQual 5\n",
      "BsmtCond 5\n",
      "BsmtExposure 5\n",
      "BsmtFinType1 7\n",
      "BsmtFinType2 7\n",
      "Heating 4\n",
      "HeatingQC 5\n",
      "CentralAir 2\n",
      "Electrical 4\n",
      "KitchenQual 5\n",
      "Functional 8\n",
      "FireplaceQu 6\n",
      "GarageType 7\n",
      "GarageFinish 4\n",
      "GarageQual 5\n",
      "GarageCond 6\n",
      "PavedDrive 3\n",
      "PoolQC 3\n",
      "Fence 5\n",
      "MiscFeature 4\n",
      "SaleType 10\n",
      "SaleCondition 6\n"
     ]
    }
   ],
   "source": [
    "# finding the length of each of the categorical feature, to see \n",
    "# if labelEncoding, onehot encoding or any other transformation needs to be done\n",
    "for feature in categorical_feature:\n",
    "    print(feature, len(test_data[feature].unique()))"
   ]
  },
  {
   "cell_type": "markdown",
   "id": "d8d01888",
   "metadata": {},
   "source": [
    "# Feature Engineering"
   ]
  },
  {
   "cell_type": "markdown",
   "id": "a8eff0c3",
   "metadata": {},
   "source": [
    "# Numerical Nan Values"
   ]
  },
  {
   "cell_type": "code",
   "execution_count": 23,
   "id": "1b104d19",
   "metadata": {},
   "outputs": [
    {
     "name": "stdout",
     "output_type": "stream",
     "text": [
      "LotFrontage\n",
      "MasVnrArea\n",
      "BsmtFullBath\n",
      "BsmtHalfBath\n",
      "GarageYrBlt\n"
     ]
    }
   ],
   "source": [
    "# replacing the numerical null values with their median keeping the original column \n",
    "# i.e, create new columns and then make the changes, in the original columns just change the name and replace \n",
    "# the missing values with 1 and others with 0.\n",
    "\n",
    "for feature in test_data.columns:\n",
    "    if test_data[feature].isnull().sum()>1 and test_data[feature].dtype != 'O':\n",
    "        print(feature)\n",
    "        \n",
    "#Clearly none of the  numerical variables is having null values.\n",
    "\n",
    "# otherwise we would have replaced the null values with median value."
   ]
  },
  {
   "cell_type": "code",
   "execution_count": 24,
   "id": "b5ef8011",
   "metadata": {},
   "outputs": [
    {
     "data": {
      "text/plain": [
       "MSZoning        0\n",
       "LotFrontage     0\n",
       "Alley           0\n",
       "Utilities       0\n",
       "MasVnrType      0\n",
       "MasVnrArea      0\n",
       "BsmtQual        0\n",
       "BsmtCond        0\n",
       "BsmtExposure    0\n",
       "BsmtFinType1    0\n",
       "BsmtFinType2    0\n",
       "BsmtFullBath    0\n",
       "BsmtHalfBath    0\n",
       "Functional      0\n",
       "FireplaceQu     0\n",
       "GarageType      0\n",
       "GarageYrBlt     0\n",
       "GarageFinish    0\n",
       "GarageQual      0\n",
       "GarageCond      0\n",
       "PoolQC          0\n",
       "Fence           0\n",
       "MiscFeature     0\n",
       "dtype: int64"
      ]
     },
     "execution_count": 24,
     "metadata": {},
     "output_type": "execute_result"
    }
   ],
   "source": [
    "#Handing the missing values with a new label 'Missing'\n",
    "#Created a function to handle the NaN cases\n",
    "\n",
    "def replace_nan_feature(test_data, feature_nan):\n",
    "    data = test_data.copy()\n",
    "    data[feature_nan] = data[feature_nan].fillna('Missing')\n",
    "    return data\n",
    "\n",
    "test_data = replace_nan_feature(test_data, feature_nan)\n",
    "\n",
    "test_data[feature_nan].isnull().sum()\n"
   ]
  },
  {
   "cell_type": "code",
   "execution_count": 25,
   "id": "309cd59a",
   "metadata": {},
   "outputs": [],
   "source": [
    "# since the sum of all the null values = 0, we removed all the null values and replaced them with a new label 'Missing'\n"
   ]
  },
  {
   "cell_type": "code",
   "execution_count": 26,
   "id": "2973547f",
   "metadata": {},
   "outputs": [],
   "source": [
    "# checking the Non-Zero numerical features.\n",
    "cont_numerical_Nonzero=[]\n",
    "for feature in continuous_feature:\n",
    "    data = test_data.copy()\n",
    "    if 0 in data[feature].unique():\n",
    "        pass\n",
    "    else:\n",
    "        cont_numerical_Nonzero.append(feature)\n",
    "        "
   ]
  },
  {
   "cell_type": "code",
   "execution_count": 27,
   "id": "c7f4bce9",
   "metadata": {},
   "outputs": [
    {
     "data": {
      "text/plain": [
       "['LotFrontage', 'LotArea', '1stFlrSF', 'GrLivArea']"
      ]
     },
     "execution_count": 27,
     "metadata": {},
     "output_type": "execute_result"
    }
   ],
   "source": [
    "# these are continuous numerical features without having 0 value\n",
    "# we will use log transformation to remove their skewness \n",
    "cont_numerical_Nonzero"
   ]
  },
  {
   "cell_type": "code",
   "execution_count": 31,
   "id": "b78c474d",
   "metadata": {},
   "outputs": [
    {
     "ename": "TypeError",
     "evalue": "loop of ufunc does not support argument 0 of type float which has no callable log method",
     "output_type": "error",
     "traceback": [
      "\u001b[1;31m---------------------------------------------------------------------------\u001b[0m",
      "\u001b[1;31mAttributeError\u001b[0m                            Traceback (most recent call last)",
      "\u001b[1;31mAttributeError\u001b[0m: 'float' object has no attribute 'log'",
      "\nThe above exception was the direct cause of the following exception:\n",
      "\u001b[1;31mTypeError\u001b[0m                                 Traceback (most recent call last)",
      "Input \u001b[1;32mIn [31]\u001b[0m, in \u001b[0;36m<cell line: 2>\u001b[1;34m()\u001b[0m\n\u001b[0;32m      1\u001b[0m \u001b[38;5;66;03m# log transformation\u001b[39;00m\n\u001b[0;32m      2\u001b[0m \u001b[38;5;28;01mfor\u001b[39;00m feature \u001b[38;5;129;01min\u001b[39;00m cont_numerical_Nonzero:\n\u001b[1;32m----> 3\u001b[0m     test_data[feature] \u001b[38;5;241m=\u001b[39m \u001b[43mnp\u001b[49m\u001b[38;5;241;43m.\u001b[39;49m\u001b[43mlog\u001b[49m\u001b[43m(\u001b[49m\u001b[43mtest_data\u001b[49m\u001b[43m[\u001b[49m\u001b[43mfeature\u001b[49m\u001b[43m]\u001b[49m\u001b[43m)\u001b[49m\n",
      "File \u001b[1;32m~\\AppData\\Local\\Programs\\Python\\Python310\\lib\\site-packages\\pandas\\core\\generic.py:2101\u001b[0m, in \u001b[0;36mNDFrame.__array_ufunc__\u001b[1;34m(self, ufunc, method, *inputs, **kwargs)\u001b[0m\n\u001b[0;32m   2097\u001b[0m \u001b[38;5;129m@final\u001b[39m\n\u001b[0;32m   2098\u001b[0m \u001b[38;5;28;01mdef\u001b[39;00m \u001b[38;5;21m__array_ufunc__\u001b[39m(\n\u001b[0;32m   2099\u001b[0m     \u001b[38;5;28mself\u001b[39m, ufunc: np\u001b[38;5;241m.\u001b[39mufunc, method: \u001b[38;5;28mstr\u001b[39m, \u001b[38;5;241m*\u001b[39minputs: Any, \u001b[38;5;241m*\u001b[39m\u001b[38;5;241m*\u001b[39mkwargs: Any\n\u001b[0;32m   2100\u001b[0m ):\n\u001b[1;32m-> 2101\u001b[0m     \u001b[38;5;28;01mreturn\u001b[39;00m arraylike\u001b[38;5;241m.\u001b[39marray_ufunc(\u001b[38;5;28mself\u001b[39m, ufunc, method, \u001b[38;5;241m*\u001b[39minputs, \u001b[38;5;241m*\u001b[39m\u001b[38;5;241m*\u001b[39mkwargs)\n",
      "File \u001b[1;32m~\\AppData\\Local\\Programs\\Python\\Python310\\lib\\site-packages\\pandas\\core\\arraylike.py:397\u001b[0m, in \u001b[0;36marray_ufunc\u001b[1;34m(self, ufunc, method, *inputs, **kwargs)\u001b[0m\n\u001b[0;32m    394\u001b[0m \u001b[38;5;28;01melif\u001b[39;00m \u001b[38;5;28mself\u001b[39m\u001b[38;5;241m.\u001b[39mndim \u001b[38;5;241m==\u001b[39m \u001b[38;5;241m1\u001b[39m:\n\u001b[0;32m    395\u001b[0m     \u001b[38;5;66;03m# ufunc(series, ...)\u001b[39;00m\n\u001b[0;32m    396\u001b[0m     inputs \u001b[38;5;241m=\u001b[39m \u001b[38;5;28mtuple\u001b[39m(extract_array(x, extract_numpy\u001b[38;5;241m=\u001b[39m\u001b[38;5;28;01mTrue\u001b[39;00m) \u001b[38;5;28;01mfor\u001b[39;00m x \u001b[38;5;129;01min\u001b[39;00m inputs)\n\u001b[1;32m--> 397\u001b[0m     result \u001b[38;5;241m=\u001b[39m \u001b[38;5;28mgetattr\u001b[39m(ufunc, method)(\u001b[38;5;241m*\u001b[39minputs, \u001b[38;5;241m*\u001b[39m\u001b[38;5;241m*\u001b[39mkwargs)\n\u001b[0;32m    398\u001b[0m \u001b[38;5;28;01melse\u001b[39;00m:\n\u001b[0;32m    399\u001b[0m     \u001b[38;5;66;03m# ufunc(dataframe)\u001b[39;00m\n\u001b[0;32m    400\u001b[0m     \u001b[38;5;28;01mif\u001b[39;00m method \u001b[38;5;241m==\u001b[39m \u001b[38;5;124m\"\u001b[39m\u001b[38;5;124m__call__\u001b[39m\u001b[38;5;124m\"\u001b[39m \u001b[38;5;129;01mand\u001b[39;00m \u001b[38;5;129;01mnot\u001b[39;00m kwargs:\n\u001b[0;32m    401\u001b[0m         \u001b[38;5;66;03m# for np.<ufunc>(..) calls\u001b[39;00m\n\u001b[0;32m    402\u001b[0m         \u001b[38;5;66;03m# kwargs cannot necessarily be handled block-by-block, so only\u001b[39;00m\n\u001b[0;32m    403\u001b[0m         \u001b[38;5;66;03m# take this path if there are no kwargs\u001b[39;00m\n",
      "\u001b[1;31mTypeError\u001b[0m: loop of ufunc does not support argument 0 of type float which has no callable log method"
     ]
    }
   ],
   "source": [
    "# log transformation\n",
    "for feature in cont_numerical_Nonzero:\n",
    "    test_data[feature] = np.log(test_data[feature])"
   ]
  },
  {
   "cell_type": "code",
   "execution_count": null,
   "id": "ef064692",
   "metadata": {},
   "outputs": [],
   "source": []
  },
  {
   "cell_type": "code",
   "execution_count": null,
   "id": "974c01a4",
   "metadata": {},
   "outputs": [],
   "source": []
  },
  {
   "cell_type": "code",
   "execution_count": null,
   "id": "fd410616",
   "metadata": {},
   "outputs": [],
   "source": []
  },
  {
   "cell_type": "code",
   "execution_count": null,
   "id": "56e4b52e",
   "metadata": {},
   "outputs": [],
   "source": [
    "\n"
   ]
  },
  {
   "cell_type": "code",
   "execution_count": null,
   "id": "782d2283",
   "metadata": {},
   "outputs": [],
   "source": []
  }
 ],
 "metadata": {
  "kernelspec": {
   "display_name": "Python 3 (ipykernel)",
   "language": "python",
   "name": "python3"
  },
  "language_info": {
   "codemirror_mode": {
    "name": "ipython",
    "version": 3
   },
   "file_extension": ".py",
   "mimetype": "text/x-python",
   "name": "python",
   "nbconvert_exporter": "python",
   "pygments_lexer": "ipython3",
   "version": "3.10.5"
  }
 },
 "nbformat": 4,
 "nbformat_minor": 5
}
